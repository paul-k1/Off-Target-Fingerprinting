{
 "cells": [
  {
   "cell_type": "markdown",
   "metadata": {},
   "source": [
    "# <ins>Project Off-Target Fingerprinting</ins>"
   ]
  },
  {
   "cell_type": "markdown",
   "id": "317aa097",
   "metadata": {},
   "source": [
    "# Jupyter Notebook for **Ligand Processing**"
   ]
  },
  {
   "cell_type": "markdown",
   "id": "91cad24c",
   "metadata": {},
   "source": [
    "This Jupyter Notebook was used to extract the SMILES codes of an existing list of ligands, based on their CHEMBL_IDs.\n",
    "\n",
    "Additionally, the molecule names from the existing list were matched against all synonyms linked on ChEMBL. This helped to correct errors in the original list.\n",
    "\n",
    "After that, ligand preparation was conducted via a KNIME workflow."
   ]
  },
  {
   "cell_type": "markdown",
   "id": "7a7785be",
   "metadata": {},
   "source": [
    "## Ligand Processing"
   ]
  },
  {
   "cell_type": "markdown",
   "id": "97966fe6",
   "metadata": {},
   "source": [
    "### SMILES Extractor via CHEMBL_ID"
   ]
  },
  {
   "cell_type": "code",
   "execution_count": 2,
   "id": "1ebcc01f",
   "metadata": {},
   "outputs": [],
   "source": [
    "import csv\n",
    "import requests\n",
    "import time\n",
    "\n",
    "input_filename = 'input.csv'\n",
    "output_filename = 'output.csv'\n",
    "\n",
    "with open(input_filename, newline='', encoding='utf-8') as csvfile:\n",
    "    reader = csv.DictReader(csvfile, delimiter=';')\n",
    "    data = list(reader)\n",
    "\n",
    "fieldnames = reader.fieldnames + ['canonical_smiles']\n",
    "\n",
    "with open(output_filename, 'w', newline='', encoding='utf-8') as csvfile:\n",
    "    writer = csv.DictWriter(csvfile, fieldnames=fieldnames, delimiter=';')\n",
    "    writer.writeheader()\n",
    "\n",
    "    for row in data:\n",
    "        chembl_id = row.get('CHEMBL_ID', '')\n",
    "        smiles = ''\n",
    "        if chembl_id:\n",
    "            url = f\"https://www.ebi.ac.uk/chembl/api/data/molecule/{chembl_id}?format=json\"\n",
    "            max_attempts = 7\n",
    "            for attempt in range(max_attempts):\n",
    "                response = requests.get(url)\n",
    "                if response.status_code == 200:\n",
    "                    try:\n",
    "                        molecule_data = response.json()\n",
    "                        structures = molecule_data.get(\"molecule_structures\")\n",
    "                        if structures:\n",
    "                            smiles = structures.get(\"canonical_smiles\", '')\n",
    "                            if smiles:\n",
    "                                break\n",
    "                    except Exception:\n",
    "                        pass\n",
    "                # wait a bit to prevent rate limiting\n",
    "                time.sleep(0.2)\n",
    "            if not smiles:\n",
    "                smiles = \"ERROR\"\n",
    "        row[\"canonical_smiles\"] = smiles\n",
    "        writer.writerow(row)\n"
   ]
  },
  {
   "cell_type": "markdown",
   "id": "af4cf604",
   "metadata": {},
   "source": [
    "### Molecule Name and Synonyms Comparison"
   ]
  },
  {
   "cell_type": "markdown",
   "id": "bc30a572",
   "metadata": {},
   "source": [
    "On the basis of a CHEMBL_ID, the pref_name and all synonyms of a compound are exported to a CSV file"
   ]
  },
  {
   "cell_type": "code",
   "execution_count": null,
   "id": "79c5be14",
   "metadata": {},
   "outputs": [],
   "source": [
    "import csv\n",
    "from chembl_webresource_client.new_client import new_client\n",
    "import time\n",
    "\n",
    "# returns a stripped string or None if it is no string\n",
    "def safe_strip(value):\n",
    "    return value.strip() if isinstance(value, str) and value else ''\n",
    "\n",
    "input_filename = 'input.csv'\n",
    "output_filename = 'synonyms.csv'\n",
    "\n",
    "molecule_client = new_client.molecule\n",
    "results_list = []\n",
    "\n",
    "with open(input_filename, newline='', encoding='utf-8-sig') as csvfile:\n",
    "    reader = csv.DictReader(csvfile, delimiter=';')\n",
    "    headers = reader.fieldnames\n",
    "    print(\"Header:\", headers)\n",
    "    for row in reader:\n",
    "        chembl_id = safe_strip(row.get('CHEMBL_ID', ''))\n",
    "        \n",
    "        active_substance = row.get('active substance')\n",
    "        if active_substance is None:\n",
    "            for key in row:\n",
    "                if key.lower() == 'active substance':\n",
    "                    active_substance = row[key]\n",
    "                    break\n",
    "            else:\n",
    "                active_substance = ''\n",
    "        active_substance = safe_strip(active_substance)\n",
    "        \n",
    "        entry = {\n",
    "            'CHEMBL_ID': chembl_id,\n",
    "            'active substance': active_substance,\n",
    "            'pref_name': '',\n",
    "            'synonyms': []\n",
    "        }\n",
    "        \n",
    "        if chembl_id:\n",
    "            attempt = 0\n",
    "            while attempt < 5:\n",
    "                try:\n",
    "                    results = molecule_client.filter(molecule_chembl_id=chembl_id)\n",
    "                    if results:\n",
    "                        mol_data = results[0]\n",
    "                        candidate_pref_name = safe_strip(mol_data.get('pref_name'))\n",
    "                        candidate_synonyms = []\n",
    "                        for syn in mol_data.get('molecule_synonyms', []):\n",
    "                            candidate = safe_strip(syn.get('molecule_synonym'))\n",
    "                            if candidate:\n",
    "                                candidate_synonyms.append(candidate)\n",
    "                        # break loop if valid pref_name or synonym found\n",
    "                        if candidate_pref_name or candidate_synonyms:\n",
    "                            entry['pref_name'] = candidate_pref_name\n",
    "                            entry['synonyms'] = candidate_synonyms\n",
    "                            break\n",
    "                except Exception as e:\n",
    "                    print(f\"Error loading CHEMBL_ID {chembl_id}, retry attempt {attempt+1}: {e}\")\n",
    "                time.sleep(0.2)\n",
    "                attempt += 1\n",
    "            if attempt == 5 and (not entry['pref_name'] and not entry['synonyms']):\n",
    "                print(f\"Error loading CHEMBL_ID {chembl_id}\")\n",
    "        results_list.append(entry)\n",
    "\n",
    "# get max count of synonyms, used to generate columns later\n",
    "max_syn = max(len(entry['synonyms']) for entry in results_list)\n",
    "\n",
    "# Define columns: CHEMBL_ID, active substance, pref_name und synonym1 ... synonymN\n",
    "fieldnames = ['CHEMBL_ID', 'active substance', 'pref_name'] + [f'synonym{i+1}' for i in range(max_syn)]\n",
    "\n",
    "with open(output_filename, 'w', newline='', encoding='utf-8') as csvfile:\n",
    "    writer = csv.DictWriter(csvfile, fieldnames=fieldnames, delimiter=';')\n",
    "    writer.writeheader()\n",
    "    for entry in results_list:\n",
    "        out_row = {\n",
    "            'CHEMBL_ID': entry['CHEMBL_ID'],\n",
    "            'active substance': entry['active substance'],\n",
    "            'pref_name': entry['pref_name']\n",
    "        }\n",
    "        for i in range(max_syn):\n",
    "            out_row[f'synonym{i+1}'] = entry['synonyms'][i] if i < len(entry['synonyms']) else ''\n",
    "        writer.writerow(out_row)\n"
   ]
  },
  {
   "cell_type": "markdown",
   "id": "eaf38cbe",
   "metadata": {},
   "source": [
    "Existing names from the original list is matched against all synonyms."
   ]
  },
  {
   "cell_type": "code",
   "execution_count": null,
   "id": "a10a926c",
   "metadata": {},
   "outputs": [],
   "source": [
    "import csv\n",
    "\n",
    "synonyms_filename = 'synonyms.csv'\n",
    "original_filename = 'input.csv'\n",
    "output_filename = 'output.csv'\n",
    "\n",
    "# read synonyms file\n",
    "synonym_rows = []\n",
    "with open(synonyms_filename, newline='', encoding='utf-8-sig', errors='replace') as csvfile:\n",
    "    reader = csv.DictReader(csvfile, delimiter=';')\n",
    "    for row in reader:\n",
    "        synonym_rows.append(row)\n",
    "\n",
    "# compare value in \"active substance\" \n",
    "probe_statuses = []\n",
    "for row in synonym_rows:\n",
    "    active_value = row.get('active substance', '').strip().lower()\n",
    "    match_found = False\n",
    "    # compare all others except CHEMBL_ID\n",
    "    for key, value in row.items():\n",
    "        if key in ['CHEMBL_ID', 'active substance']:\n",
    "            continue\n",
    "        if value.strip().lower() == active_value and active_value != \"\":\n",
    "            match_found = True\n",
    "            break\n",
    "    probe_statuses.append(\"yes\" if match_found else \"no\")\n",
    "\n",
    "# read original csv\n",
    "original_rows = []\n",
    "with open(original_filename, newline='', encoding='utf-8-sig', errors='replace') as csvfile:\n",
    "    reader = csv.DictReader(csvfile, delimiter=';')\n",
    "    for row in reader:\n",
    "        original_rows.append(row)\n",
    "\n",
    "if len(original_rows) != len(probe_statuses):\n",
    "    print(\"Warning: The number of rows in the original file and the synonym file do not match!\")\n",
    "\n",
    "# add column \"matching_passed\"\n",
    "fieldnames = list(original_rows[0].keys()) + ['matching_passed']\n",
    "\n",
    "with open(output_filename, 'w', newline='', encoding='utf-8-sig', errors='replace') as csvfile:\n",
    "    writer = csv.DictWriter(csvfile, fieldnames=fieldnames, delimiter=';')\n",
    "    writer.writeheader()\n",
    "    for i, row in enumerate(original_rows):\n",
    "        row['matching_passed'] = probe_statuses[i]\n",
    "        writer.writerow(row)\n"
   ]
  }
 ],
 "metadata": {
  "kernelspec": {
   "display_name": "Python 3",
   "language": "python",
   "name": "python3"
  },
  "language_info": {
   "codemirror_mode": {
    "name": "ipython",
    "version": 3
   },
   "file_extension": ".py",
   "mimetype": "text/x-python",
   "name": "python",
   "nbconvert_exporter": "python",
   "pygments_lexer": "ipython3",
   "version": "3.9.6"
  }
 },
 "nbformat": 4,
 "nbformat_minor": 5
}
